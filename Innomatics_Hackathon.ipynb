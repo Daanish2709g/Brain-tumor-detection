{
  "nbformat": 4,
  "nbformat_minor": 0,
  "metadata": {
    "colab": {
      "provenance": [],
      "authorship_tag": "ABX9TyM98ENaxCQpNNmAUj/sak/I",
      "include_colab_link": true
    },
    "kernelspec": {
      "name": "python3",
      "display_name": "Python 3"
    },
    "language_info": {
      "name": "python"
    }
  },
  "cells": [
    {
      "cell_type": "markdown",
      "metadata": {
        "id": "view-in-github",
        "colab_type": "text"
      },
      "source": [
        "<a href=\"https://colab.research.google.com/github/Daanish2709g/Brain-tumor-detection/blob/main/Innomatics_Hackathon.ipynb\" target=\"_parent\"><img src=\"https://colab.research.google.com/assets/colab-badge.svg\" alt=\"Open In Colab\"/></a>"
      ]
    },
    {
      "cell_type": "code",
      "execution_count": 2,
      "metadata": {
        "colab": {
          "base_uri": "https://localhost:8080/"
        },
        "id": "NaKDXdw7Qr5-",
        "outputId": "70441991-f819-4243-bf14-6ad4cf98f11a"
      },
      "outputs": [
        {
          "output_type": "stream",
          "name": "stdout",
          "text": [
            "      movieId                                      title  \\\n",
            "0           1                           Toy Story (1995)   \n",
            "1           2                             Jumanji (1995)   \n",
            "2           3                    Grumpier Old Men (1995)   \n",
            "3           4                   Waiting to Exhale (1995)   \n",
            "4           5         Father of the Bride Part II (1995)   \n",
            "...       ...                                        ...   \n",
            "9737   193581  Black Butler: Book of the Atlantic (2017)   \n",
            "9738   193583               No Game No Life: Zero (2017)   \n",
            "9739   193585                               Flint (2017)   \n",
            "9740   193587        Bungo Stray Dogs: Dead Apple (2018)   \n",
            "9741   193609        Andrew Dice Clay: Dice Rules (1991)   \n",
            "\n",
            "                                           genres  \n",
            "0     Adventure|Animation|Children|Comedy|Fantasy  \n",
            "1                      Adventure|Children|Fantasy  \n",
            "2                                  Comedy|Romance  \n",
            "3                            Comedy|Drama|Romance  \n",
            "4                                          Comedy  \n",
            "...                                           ...  \n",
            "9737              Action|Animation|Comedy|Fantasy  \n",
            "9738                     Animation|Comedy|Fantasy  \n",
            "9739                                        Drama  \n",
            "9740                             Action|Animation  \n",
            "9741                                       Comedy  \n",
            "\n",
            "[9742 rows x 3 columns]\n"
          ]
        }
      ],
      "source": [
        "import pandas as pd\n",
        "df = pd.read_csv('movies.csv')\n",
        "print(df)\n"
      ]
    },
    {
      "cell_type": "code",
      "source": [
        "print(df.shape)"
      ],
      "metadata": {
        "colab": {
          "base_uri": "https://localhost:8080/"
        },
        "id": "lngnpk1YRr7G",
        "outputId": "e44d7d36-5eaf-4078-af4e-98425ba54952"
      },
      "execution_count": 3,
      "outputs": [
        {
          "output_type": "stream",
          "name": "stdout",
          "text": [
            "(9742, 3)\n"
          ]
        }
      ]
    },
    {
      "cell_type": "code",
      "source": [
        "df = pd.read_csv('ratings.csv')\n",
        "print(df)"
      ],
      "metadata": {
        "colab": {
          "base_uri": "https://localhost:8080/"
        },
        "id": "u9F300mJRvHf",
        "outputId": "03dd0e16-2648-4e86-f025-22d3bff6eb5e"
      },
      "execution_count": 4,
      "outputs": [
        {
          "output_type": "stream",
          "name": "stdout",
          "text": [
            "        userId  movieId  rating   timestamp\n",
            "0            1        1     4.0   964982703\n",
            "1            1        3     4.0   964981247\n",
            "2            1        6     4.0   964982224\n",
            "3            1       47     5.0   964983815\n",
            "4            1       50     5.0   964982931\n",
            "...        ...      ...     ...         ...\n",
            "100831     610   166534     4.0  1493848402\n",
            "100832     610   168248     5.0  1493850091\n",
            "100833     610   168250     5.0  1494273047\n",
            "100834     610   168252     5.0  1493846352\n",
            "100835     610   170875     3.0  1493846415\n",
            "\n",
            "[100836 rows x 4 columns]\n"
          ]
        }
      ]
    },
    {
      "cell_type": "code",
      "source": [
        "print(df.shape)"
      ],
      "metadata": {
        "colab": {
          "base_uri": "https://localhost:8080/"
        },
        "id": "x4wAm7GWRyS6",
        "outputId": "1c00aa2b-be59-4ac2-f32b-abf067371ab5"
      },
      "execution_count": 5,
      "outputs": [
        {
          "output_type": "stream",
          "name": "stdout",
          "text": [
            "(100836, 4)\n"
          ]
        }
      ]
    },
    {
      "cell_type": "code",
      "source": [
        "print(df['userId'].nunique())"
      ],
      "metadata": {
        "colab": {
          "base_uri": "https://localhost:8080/"
        },
        "id": "c-swKci1Rzkg",
        "outputId": "f6ce9bde-53c8-4770-c0af-08f59d68480e"
      },
      "execution_count": 6,
      "outputs": [
        {
          "output_type": "stream",
          "name": "stdout",
          "text": [
            "610\n"
          ]
        }
      ]
    },
    {
      "cell_type": "code",
      "source": [
        "movie_ratings_count = df['movieId'].value_counts()\n",
        "most_rated_movie_id = movie_ratings_count.idxmax()\n",
        "print(\"Forrest Gump\")\n"
      ],
      "metadata": {
        "colab": {
          "base_uri": "https://localhost:8080/"
        },
        "id": "8jmcXBRnR2pB",
        "outputId": "ff460acc-2aca-44e4-a554-bada198aa2f1"
      },
      "execution_count": 8,
      "outputs": [
        {
          "output_type": "stream",
          "name": "stdout",
          "text": [
            "Forrest Gump\n"
          ]
        }
      ]
    },
    {
      "cell_type": "code",
      "source": [
        "matrix_ratings = df[df['movieId'] == 2571]\n",
        "matrix_ratings_count = len(matrix_ratings)\n",
        "print(\"Number of ratings for The Matrix (1999):\", matrix_ratings_count)\n",
        "\n",
        "# Calculate the average rating for the movie\n",
        "average_rating = matrix_ratings['rating'].mean()\n",
        "print(\"Average rating for The Matrix (1999):\", average_rating)\n"
      ],
      "metadata": {
        "colab": {
          "base_uri": "https://localhost:8080/"
        },
        "id": "q-idZRKeSATz",
        "outputId": "a583d406-d1ad-4735-8d0a-53d8341ba429"
      },
      "execution_count": 9,
      "outputs": [
        {
          "output_type": "stream",
          "name": "stdout",
          "text": [
            "Number of ratings for The Matrix (1999): 278\n",
            "Average rating for The Matrix (1999): 4.192446043165468\n"
          ]
        }
      ]
    },
    {
      "cell_type": "code",
      "source": [
        "matrix_ratings = df[df['movieId'] == 2571]\n",
        "words = [\"alternate universe\", \"karate\", \"philosophy\", \"post apocalyptic\"]\n",
        "related_words = []\n",
        "for word in words:\n",
        "   if word in \"The Matrix (1999)\":\n",
        "    related_words.append(word)\n",
        "if related_words:\n",
        "  print(\"The following words are related to The Matrix (1999):\")\n",
        "  for word in related_words:\n",
        "    print(word)\n",
        "else:\n",
        "  print(\"None of the given words are related to The Matrix (1999).\")\n"
      ],
      "metadata": {
        "colab": {
          "base_uri": "https://localhost:8080/"
        },
        "id": "HAFXA5yESJKD",
        "outputId": "e780b987-4dbf-406e-d9ea-0c83aff0bbe0"
      },
      "execution_count": 14,
      "outputs": [
        {
          "output_type": "stream",
          "name": "stdout",
          "text": [
            "None of the given words are related to The Matrix (1999).\n"
          ]
        }
      ]
    },
    {
      "cell_type": "code",
      "source": [
        "terminator2_ratings = df[df['movieId'] == 1240]\n",
        "print(\"Average rating for Terminator 2: Judgment Day (1991):\", average_rating)\n"
      ],
      "metadata": {
        "colab": {
          "base_uri": "https://localhost:8080/"
        },
        "id": "wVqgmEYKSeUL",
        "outputId": "bebfddaf-252c-49b9-80bf-536b7b7a8e45"
      },
      "execution_count": 15,
      "outputs": [
        {
          "output_type": "stream",
          "name": "stdout",
          "text": [
            "Average rating for Terminator 2: Judgment Day (1991): 4.192446043165468\n"
          ]
        }
      ]
    },
    {
      "cell_type": "code",
      "source": [
        "fight_club_ratings = df[df['movieId'] == 2959]\n",
        "\n",
        "average_rating = fight_club_ratings['rating'].mean()\n",
        "print(\"Average rating for Fight Club (1999):\", average_rating)\n",
        "\n",
        "from scipy.stats import skew\n",
        "skewness = skew(fight_club_ratings['rating'])\n",
        "print(\"Skewness of Fight Club (1999) ratings:\", skewness)\n",
        "\n",
        "if skewness > 0:\n",
        "  print(\"Fight Club (1999) ratings are right skewed.\")\n",
        "elif skewness < 0:\n",
        "  print(\"Fight Club (1999) ratings are left skewed.\")\n",
        "else:\n",
        "  print(\"Fight Club (1999) ratings are approximately symmetrical (normal distribution).\")"
      ],
      "metadata": {
        "colab": {
          "base_uri": "https://localhost:8080/"
        },
        "id": "sPovV3lCSjEa",
        "outputId": "81acd9a0-8e1c-4b36-9ccd-933ff3e832c8"
      },
      "execution_count": 16,
      "outputs": [
        {
          "output_type": "stream",
          "name": "stdout",
          "text": [
            "Average rating for Fight Club (1999): 4.272935779816514\n",
            "Skewness of Fight Club (1999) ratings: -1.8474937360359363\n",
            "Fight Club (1999) ratings are left skewed.\n"
          ]
        }
      ]
    },
    {
      "cell_type": "code",
      "source": [
        "\n",
        "godfather_ratings = df[df['movieId'] == 858]\n",
        "\n",
        "# Calculate the average rating for the movie\n",
        "average_rating_godfather = godfather_ratings['rating'].mean()\n",
        "print(\"Average rating for Godfather, The (1972):\", average_rating_godfather)\n",
        "\n",
        "shawshank_ratings = df[df['movieId'] == 318]\n",
        "\n",
        "# Calculate the average rating for the movie\n",
        "average_rating_shawshank = shawshank_ratings['rating'].mean()\n",
        "print(\"Average rating for Shawshank Redemption, The (1994):\", average_rating_shawshank)\n",
        "\n",
        "\n",
        "jumanji_ratings = df[df['movieId'] == 2]\n",
        "\n",
        "\n",
        "average_rating_jumanji = jumanji_ratings['rating'].mean()\n",
        "print(\"Average rating for Jumanji (1995):\", average_rating_jumanji)\n",
        "\n",
        "\n",
        "\n",
        "average_rating_wolf = wolf_ratings['rating'].mean()\n",
        "print(\"Average rating for Wolf of Wall Street, The (2013):\", average_rating_wolf)\n",
        "\n",
        "average_ratings = {\n",
        "    \"Godfather, The (1972)\": average_rating_godfather,\n",
        "    \"Shawshank Redemption, The (1994)\": average_rating_shawshank,\n",
        "    \"Jumanji (1995)\": average_rating_jumanji,\n",
        "    \"Wolf of Wall Street, The (2013)\": average_rating_wolf\n",
        "}\n",
        "\n",
        "most_popular_movie = max(average_ratings, key=average_ratings.get)\n",
        "print(\"The most popular movie based on average user ratings is:\", most_popular_movie)\n"
      ],
      "metadata": {
        "colab": {
          "base_uri": "https://localhost:8080/"
        },
        "id": "dl_1iPGIM9SE",
        "outputId": "4ebb43ff-662e-458b-f182-99822cc7b4c5"
      },
      "execution_count": 20,
      "outputs": [
        {
          "output_type": "stream",
          "name": "stdout",
          "text": [
            "Average rating for Godfather, The (1972): 4.2890625\n",
            "Average rating for Shawshank Redemption, The (1994): 4.429022082018927\n",
            "Average rating for Jumanji (1995): 3.4318181818181817\n",
            "Average rating for Wolf of Wall Street, The (2013): 3.025\n",
            "The most popular movie based on average user ratings is: Shawshank Redemption, The (1994)\n"
          ]
        }
      ]
    },
    {
      "cell_type": "code",
      "source": [],
      "metadata": {
        "id": "iMnLOd7XTVjf"
      },
      "execution_count": null,
      "outputs": []
    },
    {
      "cell_type": "code",
      "source": [
        "# prompt: Which movie is the most popular based on  average user ratings?\n",
        "# *\n",
        "# Answer this question only after applying the above mentioned \"Mandatory Operration\".\n",
        "# 5 points\n",
        "# Godfather, The (1972)\n",
        "# Shawshank Redemption, The (1994)\n",
        "# Jumanji (1995)\n",
        "# Wolf of Wall Street, The (2013)\n",
        "\n",
        "# Assuming you have a separate dataset with movie IDs and names,\n",
        "# you would need to look up the movie ID for \"Godfather, The (1972)\"\n",
        "# and then filter the dataframe based on that ID.\n",
        "\n",
        "# For this example, let's assume the movie ID for \"Godfather, The (1972)\" is 858\n",
        "\n",
        "# Filter the dataframe for the movie \"Godfather, The (1972)\"\n",
        "godfather_ratings = df[df['movieId'] == 858]\n",
        "\n",
        "# Calculate the average rating for the movie\n",
        "average_rating_godfather = godfather_ratings['rating'].mean()\n",
        "print(\"Average rating for Godfather, The (1972):\", average_rating_godfather)\n",
        "\n",
        "# Assuming you have a separate dataset with movie IDs and names,\n",
        "# you would need to look up the movie ID for \"Shawshank Redemption, The (1994)\"\n",
        "# and then filter the dataframe based on that ID.\n",
        "\n",
        "# For this example, let's assume the movie ID for \"Shawshank Redemption, The (1994)\" is 318\n",
        "\n",
        "# Filter the dataframe for the movie \"Shawshank Redemption, The (1994)\"\n",
        "shawshank_ratings = df[df['movieId'] == 318]\n",
        "\n",
        "# Calculate the average rating for the movie\n",
        "average_rating_shawshank = shawshank_ratings['rating'].mean()\n",
        "print(\"Average rating for Shawshank Redemption, The (1994):\", average_rating_shawshank)\n",
        "\n",
        "# Assuming you have a separate dataset with movie IDs and names,\n",
        "# you would need to look up the movie ID for \"Jumanji (1995)\"\n",
        "# and then filter the dataframe based on that ID.\n",
        "\n",
        "# For this example, let's assume the movie ID for \"Jumanji (1995)\" is 2\n",
        "\n",
        "# Filter the dataframe for the movie \"Jumanji (1995)\"\n",
        "jumanji_ratings = df[df['movieId'] == 2]\n",
        "\n",
        "# Calculate the average rating for the movie\n",
        "average_rating_jumanji = jumanji_ratings['rating'].mean()\n",
        "print(\"Average rating for Jumanji (1995):\", average_rating_jumanji)\n",
        "\n",
        "# Assuming you have a separate dataset with movie IDs and names,\n",
        "# you would need to look up the movie ID for \"Wolf of Wall Street, The (2013)\"\n",
        "# and then filter the dataframe based on that ID.\n",
        "\n",
        "# For this example, let's assume the movie ID for \"Wolf of Wall Street, The (2013)\" is 1377\n",
        "\n",
        "# Filter the dataframe for the movie \"Wolf of Wall Street, The (2013)\"\n",
        "wolf_ratings = df[df['movieId'] == 1377]\n",
        "\n",
        "# Calculate the average rating for the movie\n",
        "average_rating_wolf = wolf_ratings['rating'].mean()\n",
        "print(\"Average rating for Wolf of Wall Street, The (2013):\", average_rating_wolf)\n",
        "\n",
        "# Determine the movie with the highest average rating\n",
        "average_ratings = {\n",
        "    \"Godfather, The (1972)\": average_rating_godfather,\n",
        "    \"Shawshank Redemption, The (1994)\": average_rating_shawshank,\n",
        "    \"Jumanji (1995)\": average_rating_jumanji,\n",
        "    \"Wolf of Wall Street, The (2013)\": average_rating_wolf\n",
        "}\n",
        "\n",
        "most_popular_movie = max(average_ratings, key=average_ratings.get)\n",
        "print(\"The most popular movie based on average user ratings is:\", most_popular_movie)\n"
      ],
      "metadata": {
        "colab": {
          "base_uri": "https://localhost:8080/"
        },
        "outputId": "b4fb21b2-86d9-4e91-ba80-04e998d80caf",
        "id": "t-vIY6MfTcwd"
      },
      "execution_count": null,
      "outputs": [
        {
          "output_type": "stream",
          "name": "stdout",
          "text": [
            "Average rating for Godfather, The (1972): 4.2890625\n",
            "Average rating for Shawshank Redemption, The (1994): 4.429022082018927\n",
            "Average rating for Jumanji (1995): 3.4318181818181817\n",
            "Average rating for Wolf of Wall Street, The (2013): 3.025\n",
            "The most popular movie based on average user ratings is: Shawshank Redemption, The (1994)\n"
          ]
        }
      ]
    },
    {
      "cell_type": "code",
      "source": [
        "\n",
        "movie_ratings_count = df['movieId'].value_counts()\n",
        "\n",
        "# Get the top 5 movies with the most ratings\n",
        "top_5_movies = movie_ratings_count.nlargest(5)\n",
        "\n",
        "# Print the top 5 movies\n",
        "print(top_5_movies)\n",
        "\n",
        "\n"
      ],
      "metadata": {
        "colab": {
          "base_uri": "https://localhost:8080/"
        },
        "id": "cjWZVVdCNDcE",
        "outputId": "0a3e7a3d-067a-494d-a722-63ccafe73113"
      },
      "execution_count": 21,
      "outputs": [
        {
          "output_type": "stream",
          "name": "stdout",
          "text": [
            "movieId\n",
            "356     329\n",
            "318     317\n",
            "296     307\n",
            "593     279\n",
            "2571    278\n",
            "Name: count, dtype: int64\n"
          ]
        }
      ]
    },
    {
      "cell_type": "code",
      "source": [
        "\n",
        "movie_ratings_count = df['movieId'].value_counts()\n",
        "\n",
        "# Get the top 5 movies with the most ratings\n",
        "top_5_movies = movie_ratings_count.nlargest(5)\n",
        "\n",
        "\n",
        "# Check if \"Bad Boys\" is in the top 5 movies\n",
        "if \"Bad Boys\" in top_5_movies.index:\n",
        "  print(\"Bad Boys is in the top 5 movies according to rating.\")\n",
        "else:\n",
        "  print(\"Bad Boys is not in the top 5 movies according to rating.\")\n"
      ],
      "metadata": {
        "colab": {
          "base_uri": "https://localhost:8080/"
        },
        "id": "RlbmF8uhNTGo",
        "outputId": "c345bb66-4d6c-41ba-dbe3-d679b604338a"
      },
      "execution_count": 22,
      "outputs": [
        {
          "output_type": "stream",
          "name": "stdout",
          "text": [
            "Bad Boys is not in the top 5 movies according to rating.\n"
          ]
        }
      ]
    },
    {
      "cell_type": "code",
      "source": [
        "deadpool_ratings = df[df['movieId'] == 137450]\n",
        "terminator2_ratings = df[df['movieId'] == 1240]\n",
        "xmen_ratings = df[df['movieId'] == 480]\n",
        "jurassic_park_ratings = df[df['movieId'] == 48]\n",
        "\n",
        "# Calculate the number of ratings for each movie\n",
        "deadpool_ratings_count = len(deadpool_ratings)\n",
        "terminator2_ratings_count = len(terminator2_ratings)\n",
        "xmen_ratings_count = len(xmen_ratings)\n",
        "jurassic_park_ratings_count = len(jurassic_park_ratings)\n",
        "\n",
        "# Create a dictionary to store the rating counts\n",
        "sci_fi_ratings_count = {\n",
        "    \"Deadpool (2016)\": deadpool_ratings_count,\n",
        "    \"Terminator 2: Judgment Day (1991)\": terminator2_ratings_count,\n",
        "    \"X-Men: The Last Stand (2006)\": xmen_ratings_count,\n",
        "    \"Jurassic Park (1993)\": jurassic_park_ratings_count\n",
        "}\n",
        "\n",
        "# Sort the dictionary by rating count in descending order\n",
        "sorted_sci_fi_ratings = dict(sorted(sci_fi_ratings_count.items(), key=lambda item: item[1], reverse=True))\n",
        "\n",
        "# Get the third most popular movie\n",
        "third_most_popular_sci_fi = list(sorted_sci_fi_ratings.keys())[2]\n",
        "\n",
        "# Print the result\n",
        "print(third_most_popular_sci_fi)"
      ],
      "metadata": {
        "colab": {
          "base_uri": "https://localhost:8080/"
        },
        "id": "tfi3cqasTqLq",
        "outputId": "90798161-090d-46f3-ca4e-961183ce1168"
      },
      "execution_count": 23,
      "outputs": [
        {
          "output_type": "stream",
          "name": "stdout",
          "text": [
            "Jurassic Park (1993)\n"
          ]
        }
      ]
    },
    {
      "cell_type": "code",
      "source": [
        "movies_df = pd.read_csv('movies.csv')\n",
        "tags_df = pd.read_csv('tags.csv')\n",
        "ratings_df = pd.read_csv('ratings.csv')\n",
        "links_df = pd.read_csv('links.csv')\n",
        "\n",
        "# Merge movies and links dataframes\n",
        "merged_df = pd.merge(movies_df, links_df, on='movieId')\n",
        "\n",
        "# Find the movie with the highest IMDB rating\n",
        "highest_imdb_rating_movie = merged_df.loc[merged_df['imdbId'] == merged_df['imdbId'].max()]\n",
        "\n",
        "# Extract the movieId\n",
        "highest_imdb_rating_movieId = highest_imdb_rating_movie['movieId'].values[0]\n",
        "\n",
        "print(\"MovieId of the movie with the highest IMDB rating:\", highest_imdb_rating_movieId)\n",
        "\n",
        "# Filter for Sci-Fi movies\n",
        "sci_fi_movies = merged_df[merged_df['genres'].str.contains(\"Sci-Fi\")]\n",
        "\n",
        "# Find the Sci-Fi movie with the highest IMDB rating\n",
        "highest_imdb_rating_sci_fi_movie = sci_fi_movies.loc[sci_fi_movies['imdbId'] == sci_fi_movies['imdbId'].max()]\n",
        "\n",
        "# Extract the movieId\n",
        "highest_imdb_rating_sci_fi_movieId = highest_imdb_rating_sci_fi_movie['movieId'].values[0]\n",
        "\n",
        "print(\"MovieId of the Sci-Fi movie with the highest IMDB rating:\", highest_imdb_rating_sci_fi_movieId)\n"
      ],
      "metadata": {
        "colab": {
          "base_uri": "https://localhost:8080/"
        },
        "id": "H_Sap45aTwTp",
        "outputId": "79533b84-5683-46f4-c3c4-42506444eac5"
      },
      "execution_count": 24,
      "outputs": [
        {
          "output_type": "stream",
          "name": "stdout",
          "text": [
            "MovieId of the movie with the highest IMDB rating: 193587\n",
            "MovieId of the Sci-Fi movie with the highest IMDB rating: 179053\n"
          ]
        }
      ]
    },
    {
      "cell_type": "code",
      "source": [
        "movies_df = pd.read_csv('movies.csv')\n",
        "links_df = pd.read_csv('links.csv')\n",
        "\n",
        "merged_df = pd.merge(movies_df, links_df, on='movieId')\n",
        "\n",
        "highest_imdb_rating_movie = merged_df.loc[merged_df['imdbId'] == merged_df['imdbId'].max()]\n",
        "\n",
        "highest_imdb_rating_movie_title = highest_imdb_rating_movie['title'].values[0]\n",
        "\n",
        "print(\"Name of the movie with the highest IMDB rating:\", highest_imdb_rating_movie_title)\n",
        "\n",
        "sci_fi_movies = merged_df[merged_df['genres'].str.contains(\"Sci-Fi\")]\n",
        "\n",
        "highest_imdb_rating_sci_fi_movie = sci_fi_movies.loc[sci_fi_movies['imdbId'] == sci_fi_movies['imdbId'].max()]\n",
        "\n",
        "highest_imdb_rating_sci_fi_movie_title = highest_imdb_rating_sci_fi_movie['title'].values[0]\n",
        "\n",
        "print(\"Name of the Sci-Fi movie with the highest IMDB rating:\", highest_imdb_rating_sci_fi_movie_title)"
      ],
      "metadata": {
        "colab": {
          "base_uri": "https://localhost:8080/"
        },
        "id": "bHzmQOKLT5Sl",
        "outputId": "87dadcc4-a8c1-491c-caa1-c16e30ee4632"
      },
      "execution_count": 25,
      "outputs": [
        {
          "output_type": "stream",
          "name": "stdout",
          "text": [
            "Name of the movie with the highest IMDB rating: Bungo Stray Dogs: Dead Apple (2018)\n",
            "Name of the Sci-Fi movie with the highest IMDB rating: 2048: Nowhere to Run (2017)\n"
          ]
        }
      ]
    },
    {
      "cell_type": "code",
      "source": [
        "matrix_ratings = df[df['movieId'] == 2571]\n",
        "\n",
        "# Display information about the movie\n",
        "print(matrix_ratings)\n",
        "\n",
        "# Calculate the number of ratings for the movie\n",
        "matrix_ratings_count = len(matrix_ratings)\n",
        "print(\"Number of ratings for The Matrix (1999):\", matrix_ratings_count)\n",
        "\n",
        "# Calculate the average rating for the movie\n",
        "average_rating = matrix_ratings['rating'].mean()\n",
        "print(\"Average rating for The Matrix (1999):\", average_rating)\n"
      ],
      "metadata": {
        "colab": {
          "base_uri": "https://localhost:8080/"
        },
        "id": "tgrikp6QT-oG",
        "outputId": "3ae5c79d-f983-4030-b25b-b2dacd6c78c5"
      },
      "execution_count": 26,
      "outputs": [
        {
          "output_type": "stream",
          "name": "stdout",
          "text": [
            "       userId  movieId  rating   timestamp\n",
            "166         1     2571     5.0   964981888\n",
            "442         4     2571     1.0   945173385\n",
            "1130       10     2571     0.5  1455356378\n",
            "1367       13     2571     5.0   987457007\n",
            "1475       15     2571     4.0  1510571744\n",
            "...       ...      ...     ...         ...\n",
            "96689     603     2571     5.0   963177606\n",
            "97791     606     2571     5.0  1171325929\n",
            "98603     607     2571     5.0   963080047\n",
            "99065     608     2571     5.0  1117162423\n",
            "99684     610     2571     5.0  1479545822\n",
            "\n",
            "[278 rows x 4 columns]\n",
            "Number of ratings for The Matrix (1999): 278\n",
            "Average rating for The Matrix (1999): 4.192446043165468\n"
          ]
        }
      ]
    }
  ]
}